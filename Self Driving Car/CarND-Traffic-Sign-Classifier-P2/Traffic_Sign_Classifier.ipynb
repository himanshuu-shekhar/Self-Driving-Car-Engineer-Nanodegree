{
 "cells": [
  {
   "cell_type": "markdown",
   "metadata": {},
   "source": [
    "# Self-Driving Car Engineer Nanodegree\n",
    "\n",
    "## Deep Learning\n",
    "\n",
    "## Project: Build a Traffic Sign Recognition Classifier\n",
    "\n",
    "In this notebook, a template is provided for you to implement your functionality in stages, which is required to successfully complete this project. If additional code is required that cannot be included in the notebook, be sure that the Python code is successfully imported and included in your submission if necessary. \n",
    "\n",
    "> **Note**: Once you have completed all of the code implementations, you need to finalize your work by exporting the iPython Notebook as an HTML document. Before exporting the notebook to html, all of the code cells need to have been run so that reviewers can see the final implementation and output. You can then export the notebook by using the menu above and navigating to  \\n\",\n",
    "    \"**File -> Download as -> HTML (.html)**. Include the finished document along with this notebook as your submission. \n",
    "\n",
    "In addition to implementing code, there is a writeup to complete. The writeup should be completed in a separate file, which can be either a markdown file or a pdf document. There is a [write up template](https://github.com/udacity/CarND-Traffic-Sign-Classifier-Project/blob/master/writeup_template.md) that can be used to guide the writing process. Completing the code template and writeup template will cover all of the [rubric points](https://review.udacity.com/#!/rubrics/481/view) for this project.\n",
    "\n",
    "The [rubric](https://review.udacity.com/#!/rubrics/481/view) contains \"Stand Out Suggestions\" for enhancing the project beyond the minimum requirements. The stand out suggestions are optional. If you decide to pursue the \"stand out suggestions\", you can include the code in this Ipython notebook and also discuss the results in the writeup file.\n",
    "\n",
    "\n",
    ">**Note:** Code and Markdown cells can be executed using the **Shift + Enter** keyboard shortcut. In addition, Markdown cells can be edited by typically double-clicking the cell to enter edit mode."
   ]
  },
  {
   "cell_type": "markdown",
   "metadata": {},
   "source": [
    "---\n",
    "## Step 0: Load The Data"
   ]
  },
  {
   "cell_type": "code",
   "execution_count": 1,
   "metadata": {
    "collapsed": true
   },
   "outputs": [],
   "source": [
    "# Load pickled data\n",
    "import pickle\n",
    "\n",
    "training_file = 'traffic-signs-data/train.p'\n",
    "validation_file= 'traffic-signs-data/valid.p'\n",
    "testing_file = 'traffic-signs-data/test.p'\n",
    "\n",
    "with open(training_file, mode='rb') as f:\n",
    "    train = pickle.load(f)\n",
    "with open(validation_file, mode='rb') as f:\n",
    "    valid = pickle.load(f)\n",
    "with open(testing_file, mode='rb') as f:\n",
    "    test = pickle.load(f)\n",
    "    \n",
    "X_train, y_train = train['features'], train['labels']\n",
    "X_valid, y_valid = valid['features'], valid['labels']\n",
    "X_test, y_test = test['features'], test['labels']"
   ]
  },
  {
   "cell_type": "markdown",
   "metadata": {},
   "source": [
    "---\n",
    "\n",
    "## Step 1: Dataset Summary & Exploration\n",
    "\n",
    "The pickled data is a dictionary with 4 key/value pairs:\n",
    "\n",
    "- `'features'` is a 4D array containing raw pixel data of the traffic sign images, (num examples, width, height, channels).\n",
    "- `'labels'` is a 1D array containing the label/class id of the traffic sign. The file `signnames.csv` contains id -> name mappings for each id.\n",
    "- `'sizes'` is a list containing tuples, (width, height) representing the original width and height the image.\n",
    "- `'coords'` is a list containing tuples, (x1, y1, x2, y2) representing coordinates of a bounding box around the sign in the image. **THESE COORDINATES ASSUME THE ORIGINAL IMAGE. THE PICKLED DATA CONTAINS RESIZED VERSIONS (32 by 32) OF THESE IMAGES**\n",
    "\n",
    "Complete the basic data summary below. Use python, numpy and/or pandas methods to calculate the data summary rather than hard coding the results. For example, the [pandas shape method](http://pandas.pydata.org/pandas-docs/stable/generated/pandas.DataFrame.shape.html) might be useful for calculating some of the summary results. "
   ]
  },
  {
   "cell_type": "markdown",
   "metadata": {},
   "source": [
    "### Provide a Basic Summary of the Data Set Using Python, Numpy and/or Pandas"
   ]
  },
  {
   "cell_type": "code",
   "execution_count": 54,
   "metadata": {
    "collapsed": false
   },
   "outputs": [
    {
     "name": "stdout",
     "output_type": "stream",
     "text": [
      "Number of training examples = 34799\n",
      "Number of validation examples = 4410\n",
      "Number of testing examples = 12630\n",
      "Image data shape = (32, 32, 3)\n",
      "Number of classes = 43\n"
     ]
    }
   ],
   "source": [
    "### Use python, pandas or numpy methods rather than hard coding the results\n",
    "\n",
    "\n",
    "#Number of training examples\n",
    "n_train = len(X_train)\n",
    "\n",
    "# TODO: Number of validation examples\n",
    "n_validation = len(X_valid)\n",
    "\n",
    "# Number of testing examples.\n",
    "n_test = len(X_test)\n",
    "\n",
    "\n",
    "# What's the shape of an traffic sign image?\n",
    "image_shape = X_train[0].shape\n",
    "\n",
    "# TODO: How many unique classes/labels there are in the dataset.\n",
    "n_classes = len(set(y_train))\n",
    "\n",
    "print(\"Number of training examples =\", n_train)\n",
    "print(\"Number of validation examples =\", n_validation)\n",
    "print(\"Number of testing examples =\", n_test)\n",
    "print(\"Image data shape =\", image_shape)\n",
    "print(\"Number of classes =\", n_classes)"
   ]
  },
  {
   "cell_type": "code",
   "execution_count": 9,
   "metadata": {
    "collapsed": false
   },
   "outputs": [
    {
     "name": "stdout",
     "output_type": "stream",
     "text": [
      "uint8\n"
     ]
    }
   ],
   "source": [
    "\n",
    "#print (X_train.shape) output= (34799, 32, 32, 3)\n",
    "#print (X_train.shape[0]) output= (34799)\n",
    "#print (X_train.shape[1]) output= (32)\n",
    "#print (X_train.shape[2]) #output= (32)\n",
    "#print (X_train.shape[3]) #output= (3)\n",
    "#print (X_train.dtype) output = (uint8)"
   ]
  },
  {
   "cell_type": "markdown",
   "metadata": {},
   "source": [
    "### Include an exploratory visualization of the dataset"
   ]
  },
  {
   "cell_type": "markdown",
   "metadata": {},
   "source": [
    "Visualize the German Traffic Signs Dataset using the pickled file(s). This is open ended, suggestions include: plotting traffic sign images, plotting the count of each sign, etc. \n",
    "\n",
    "The [Matplotlib](http://matplotlib.org/) [examples](http://matplotlib.org/examples/index.html) and [gallery](http://matplotlib.org/gallery.html) pages are a great resource for doing visualizations in Python.\n",
    "\n",
    "**NOTE:** It's recommended you start with something simple first. If you wish to do more, come back to it after you've completed the rest of the sections. It can be interesting to look at the distribution of classes in the training, validation and test set. Is the distribution the same? Are there more examples of some classes than others?"
   ]
  },
  {
   "cell_type": "code",
   "execution_count": 4,
   "metadata": {
    "collapsed": false
   },
   "outputs": [
    {
     "name": "stdout",
     "output_type": "stream",
     "text": [
      "Random sample images:\n"
     ]
    },
    {
     "data": {
      "image/png": "[encoded data removed]",
      "text/plain": [
       "<matplotlib.figure.Figure at 0x7f990c6205f8>"
      ]
     },
     "metadata": {},
     "output_type": "display_data"
    }
   ],
   "source": [
    "\n",
    "### Data exploration visualization\n",
    "import matplotlib.pyplot as plt\n",
    "from random import randint\n",
    "%matplotlib inline\n",
    "print('Random sample images:')\n",
    "for i in range(8):\n",
    "    plt.subplot(4,4,i+1)\n",
    "    plt.imshow(X_train[randint(0,34000)],aspect='auto')"
   ]
  },
  {
   "cell_type": "code",
   "execution_count": 5,
   "metadata": {
    "collapsed": false
   },
   "outputs": [
    {
     "data": {
      "text/plain": [
       "[]"
      ]
     },
     "execution_count": 5,
     "metadata": {},
     "output_type": "execute_result"
    },
    {
     "data": {
      "image/png": "[encoded data removed]",
      "text/plain": [
       "<matplotlib.figure.Figure at 0x7f99012c9668>"
      ]
     },
     "metadata": {},
     "output_type": "display_data"
    }
   ],
   "source": [
    "\n",
    "plt.hist(y_train, bins=n_classes)\n",
    "plt.title('Number of examples of each sign in the training set')\n",
    "plt.xlabel('Sign')\n",
    "plt.ylabel('Count')\n",
    "plt.plot()"
   ]
  },
  {
   "cell_type": "code",
   "execution_count": 6,
   "metadata": {
    "collapsed": true
   },
   "outputs": [],
   "source": [
    "#Comparing distribution of class across training & test set\n",
    "import collections\n",
    "import pandas as pd\n",
    "train_dist = collections.Counter(y_train)\n",
    "test_dist = collections.Counter(y_test)\n",
    "train_dist = pd.DataFrame.from_dict(train_dist,orient = 'index').reset_index()\n",
    "test_dist = pd.DataFrame.from_dict(test_dist,orient = 'index').reset_index()\n",
    "train_dist.columns = ['ClassId', 'Train_Count']\n",
    "test_dist.columns = ['ClassId', 'test_Count']\n",
    "train_dist['Train_Percent'] = 100*train_dist['Train_Count']/train_dist.Train_Count.sum()\n",
    "test_dist['test_Percent'] = 100*test_dist['test_Count']/test_dist.test_Count.sum()\n",
    "train_test_dist = pd.merge(train_dist,test_dist, on = 'ClassId', how = 'outer')\n",
    "train_test_dist['Dist_Difference'] = train_test_dist.Train_Percent - train_test_dist.test_Percent"
   ]
  },
  {
   "cell_type": "code",
   "execution_count": 7,
   "metadata": {
    "collapsed": false
   },
   "outputs": [
    {
     "data": {
      "text/html": [
       "<div>\n",
       "<table border=\"1\" class=\"dataframe\">\n",
       "  <thead>\n",
       "    <tr style=\"text-align: right;\">\n",
       "      <th></th>\n",
       "      <th>ClassId</th>\n",
       "      <th>Train_Count</th>\n",
       "      <th>Train_Percent</th>\n",
       "      <th>test_Count</th>\n",
       "      <th>test_Percent</th>\n",
       "      <th>Dist_Difference</th>\n",
       "    </tr>\n",
       "  </thead>\n",
       "  <tbody>\n",
       "    <tr>\n",
       "      <th>0</th>\n",
       "      <td>0</td>\n",
       "      <td>180</td>\n",
       "      <td>0.517256</td>\n",
       "      <td>60</td>\n",
       "      <td>0.475059</td>\n",
       "      <td>0.042197</td>\n",
       "    </tr>\n",
       "    <tr>\n",
       "      <th>1</th>\n",
       "      <td>1</td>\n",
       "      <td>1980</td>\n",
       "      <td>5.689819</td>\n",
       "      <td>720</td>\n",
       "      <td>5.700713</td>\n",
       "      <td>-0.010894</td>\n",
       "    </tr>\n",
       "    <tr>\n",
       "      <th>2</th>\n",
       "      <td>2</td>\n",
       "      <td>2010</td>\n",
       "      <td>5.776028</td>\n",
       "      <td>750</td>\n",
       "      <td>5.938242</td>\n",
       "      <td>-0.162214</td>\n",
       "    </tr>\n",
       "    <tr>\n",
       "      <th>3</th>\n",
       "      <td>3</td>\n",
       "      <td>1260</td>\n",
       "      <td>3.620794</td>\n",
       "      <td>450</td>\n",
       "      <td>3.562945</td>\n",
       "      <td>0.057848</td>\n",
       "    </tr>\n",
       "    <tr>\n",
       "      <th>4</th>\n",
       "      <td>4</td>\n",
       "      <td>1770</td>\n",
       "      <td>5.086353</td>\n",
       "      <td>660</td>\n",
       "      <td>5.225653</td>\n",
       "      <td>-0.139300</td>\n",
       "    </tr>\n",
       "    <tr>\n",
       "      <th>5</th>\n",
       "      <td>5</td>\n",
       "      <td>1650</td>\n",
       "      <td>4.741516</td>\n",
       "      <td>630</td>\n",
       "      <td>4.988124</td>\n",
       "      <td>-0.246608</td>\n",
       "    </tr>\n",
       "    <tr>\n",
       "      <th>6</th>\n",
       "      <td>6</td>\n",
       "      <td>360</td>\n",
       "      <td>1.034512</td>\n",
       "      <td>150</td>\n",
       "      <td>1.187648</td>\n",
       "      <td>-0.153136</td>\n",
       "    </tr>\n",
       "    <tr>\n",
       "      <th>7</th>\n",
       "      <td>7</td>\n",
       "      <td>1290</td>\n",
       "      <td>3.707003</td>\n",
       "      <td>450</td>\n",
       "      <td>3.562945</td>\n",
       "      <td>0.144058</td>\n",
       "    </tr>\n",
       "    <tr>\n",
       "      <th>8</th>\n",
       "      <td>8</td>\n",
       "      <td>1260</td>\n",
       "      <td>3.620794</td>\n",
       "      <td>450</td>\n",
       "      <td>3.562945</td>\n",
       "      <td>0.057848</td>\n",
       "    </tr>\n",
       "    <tr>\n",
       "      <th>9</th>\n",
       "      <td>9</td>\n",
       "      <td>1320</td>\n",
       "      <td>3.793212</td>\n",
       "      <td>480</td>\n",
       "      <td>3.800475</td>\n",
       "      <td>-0.007263</td>\n",
       "    </tr>\n",
       "    <tr>\n",
       "      <th>10</th>\n",
       "      <td>10</td>\n",
       "      <td>1800</td>\n",
       "      <td>5.172562</td>\n",
       "      <td>660</td>\n",
       "      <td>5.225653</td>\n",
       "      <td>-0.053091</td>\n",
       "    </tr>\n",
       "    <tr>\n",
       "      <th>11</th>\n",
       "      <td>11</td>\n",
       "      <td>1170</td>\n",
       "      <td>3.362166</td>\n",
       "      <td>420</td>\n",
       "      <td>3.325416</td>\n",
       "      <td>0.036750</td>\n",
       "    </tr>\n",
       "    <tr>\n",
       "      <th>12</th>\n",
       "      <td>12</td>\n",
       "      <td>1890</td>\n",
       "      <td>5.431191</td>\n",
       "      <td>690</td>\n",
       "      <td>5.463183</td>\n",
       "      <td>-0.031992</td>\n",
       "    </tr>\n",
       "    <tr>\n",
       "      <th>13</th>\n",
       "      <td>13</td>\n",
       "      <td>1920</td>\n",
       "      <td>5.517400</td>\n",
       "      <td>720</td>\n",
       "      <td>5.700713</td>\n",
       "      <td>-0.183313</td>\n",
       "    </tr>\n",
       "    <tr>\n",
       "      <th>14</th>\n",
       "      <td>14</td>\n",
       "      <td>690</td>\n",
       "      <td>1.982816</td>\n",
       "      <td>270</td>\n",
       "      <td>2.137767</td>\n",
       "      <td>-0.154952</td>\n",
       "    </tr>\n",
       "    <tr>\n",
       "      <th>15</th>\n",
       "      <td>15</td>\n",
       "      <td>540</td>\n",
       "      <td>1.551769</td>\n",
       "      <td>210</td>\n",
       "      <td>1.662708</td>\n",
       "      <td>-0.110939</td>\n",
       "    </tr>\n",
       "    <tr>\n",
       "      <th>16</th>\n",
       "      <td>16</td>\n",
       "      <td>360</td>\n",
       "      <td>1.034512</td>\n",
       "      <td>150</td>\n",
       "      <td>1.187648</td>\n",
       "      <td>-0.153136</td>\n",
       "    </tr>\n",
       "    <tr>\n",
       "      <th>17</th>\n",
       "      <td>17</td>\n",
       "      <td>990</td>\n",
       "      <td>2.844909</td>\n",
       "      <td>360</td>\n",
       "      <td>2.850356</td>\n",
       "      <td>-0.005447</td>\n",
       "    </tr>\n",
       "    <tr>\n",
       "      <th>18</th>\n",
       "      <td>18</td>\n",
       "      <td>1080</td>\n",
       "      <td>3.103537</td>\n",
       "      <td>390</td>\n",
       "      <td>3.087886</td>\n",
       "      <td>0.015651</td>\n",
       "    </tr>\n",
       "    <tr>\n",
       "      <th>19</th>\n",
       "      <td>19</td>\n",
       "      <td>180</td>\n",
       "      <td>0.517256</td>\n",
       "      <td>60</td>\n",
       "      <td>0.475059</td>\n",
       "      <td>0.042197</td>\n",
       "    </tr>\n",
       "    <tr>\n",
       "      <th>20</th>\n",
       "      <td>20</td>\n",
       "      <td>300</td>\n",
       "      <td>0.862094</td>\n",
       "      <td>90</td>\n",
       "      <td>0.712589</td>\n",
       "      <td>0.149505</td>\n",
       "    </tr>\n",
       "    <tr>\n",
       "      <th>21</th>\n",
       "      <td>21</td>\n",
       "      <td>270</td>\n",
       "      <td>0.775884</td>\n",
       "      <td>90</td>\n",
       "      <td>0.712589</td>\n",
       "      <td>0.063295</td>\n",
       "    </tr>\n",
       "    <tr>\n",
       "      <th>22</th>\n",
       "      <td>22</td>\n",
       "      <td>330</td>\n",
       "      <td>0.948303</td>\n",
       "      <td>120</td>\n",
       "      <td>0.950119</td>\n",
       "      <td>-0.001816</td>\n",
       "    </tr>\n",
       "    <tr>\n",
       "      <th>23</th>\n",
       "      <td>23</td>\n",
       "      <td>450</td>\n",
       "      <td>1.293141</td>\n",
       "      <td>150</td>\n",
       "      <td>1.187648</td>\n",
       "      <td>0.105492</td>\n",
       "    </tr>\n",
       "    <tr>\n",
       "      <th>24</th>\n",
       "      <td>24</td>\n",
       "      <td>240</td>\n",
       "      <td>0.689675</td>\n",
       "      <td>90</td>\n",
       "      <td>0.712589</td>\n",
       "      <td>-0.022914</td>\n",
       "    </tr>\n",
       "    <tr>\n",
       "      <th>25</th>\n",
       "      <td>25</td>\n",
       "      <td>1350</td>\n",
       "      <td>3.879422</td>\n",
       "      <td>480</td>\n",
       "      <td>3.800475</td>\n",
       "      <td>0.078947</td>\n",
       "    </tr>\n",
       "    <tr>\n",
       "      <th>26</th>\n",
       "      <td>26</td>\n",
       "      <td>540</td>\n",
       "      <td>1.551769</td>\n",
       "      <td>180</td>\n",
       "      <td>1.425178</td>\n",
       "      <td>0.126591</td>\n",
       "    </tr>\n",
       "    <tr>\n",
       "      <th>27</th>\n",
       "      <td>27</td>\n",
       "      <td>210</td>\n",
       "      <td>0.603466</td>\n",
       "      <td>60</td>\n",
       "      <td>0.475059</td>\n",
       "      <td>0.128406</td>\n",
       "    </tr>\n",
       "    <tr>\n",
       "      <th>28</th>\n",
       "      <td>28</td>\n",
       "      <td>480</td>\n",
       "      <td>1.379350</td>\n",
       "      <td>150</td>\n",
       "      <td>1.187648</td>\n",
       "      <td>0.191702</td>\n",
       "    </tr>\n",
       "    <tr>\n",
       "      <th>29</th>\n",
       "      <td>29</td>\n",
       "      <td>240</td>\n",
       "      <td>0.689675</td>\n",
       "      <td>90</td>\n",
       "      <td>0.712589</td>\n",
       "      <td>-0.022914</td>\n",
       "    </tr>\n",
       "    <tr>\n",
       "      <th>30</th>\n",
       "      <td>30</td>\n",
       "      <td>390</td>\n",
       "      <td>1.120722</td>\n",
       "      <td>150</td>\n",
       "      <td>1.187648</td>\n",
       "      <td>-0.066927</td>\n",
       "    </tr>\n",
       "    <tr>\n",
       "      <th>31</th>\n",
       "      <td>31</td>\n",
       "      <td>690</td>\n",
       "      <td>1.982816</td>\n",
       "      <td>270</td>\n",
       "      <td>2.137767</td>\n",
       "      <td>-0.154952</td>\n",
       "    </tr>\n",
       "    <tr>\n",
       "      <th>32</th>\n",
       "      <td>32</td>\n",
       "      <td>210</td>\n",
       "      <td>0.603466</td>\n",
       "      <td>60</td>\n",
       "      <td>0.475059</td>\n",
       "      <td>0.128406</td>\n",
       "    </tr>\n",
       "    <tr>\n",
       "      <th>33</th>\n",
       "      <td>33</td>\n",
       "      <td>599</td>\n",
       "      <td>1.721314</td>\n",
       "      <td>210</td>\n",
       "      <td>1.662708</td>\n",
       "      <td>0.058606</td>\n",
       "    </tr>\n",
       "    <tr>\n",
       "      <th>34</th>\n",
       "      <td>34</td>\n",
       "      <td>360</td>\n",
       "      <td>1.034512</td>\n",
       "      <td>120</td>\n",
       "      <td>0.950119</td>\n",
       "      <td>0.084394</td>\n",
       "    </tr>\n",
       "    <tr>\n",
       "      <th>35</th>\n",
       "      <td>35</td>\n",
       "      <td>1080</td>\n",
       "      <td>3.103537</td>\n",
       "      <td>390</td>\n",
       "      <td>3.087886</td>\n",
       "      <td>0.015651</td>\n",
       "    </tr>\n",
       "    <tr>\n",
       "      <th>36</th>\n",
       "      <td>36</td>\n",
       "      <td>330</td>\n",
       "      <td>0.948303</td>\n",
       "      <td>120</td>\n",
       "      <td>0.950119</td>\n",
       "      <td>-0.001816</td>\n",
       "    </tr>\n",
       "    <tr>\n",
       "      <th>37</th>\n",
       "      <td>37</td>\n",
       "      <td>180</td>\n",
       "      <td>0.517256</td>\n",
       "      <td>60</td>\n",
       "      <td>0.475059</td>\n",
       "      <td>0.042197</td>\n",
       "    </tr>\n",
       "    <tr>\n",
       "      <th>38</th>\n",
       "      <td>38</td>\n",
       "      <td>1860</td>\n",
       "      <td>5.344981</td>\n",
       "      <td>690</td>\n",
       "      <td>5.463183</td>\n",
       "      <td>-0.118202</td>\n",
       "    </tr>\n",
       "    <tr>\n",
       "      <th>39</th>\n",
       "      <td>39</td>\n",
       "      <td>270</td>\n",
       "      <td>0.775884</td>\n",
       "      <td>90</td>\n",
       "      <td>0.712589</td>\n",
       "      <td>0.063295</td>\n",
       "    </tr>\n",
       "    <tr>\n",
       "      <th>40</th>\n",
       "      <td>40</td>\n",
       "      <td>300</td>\n",
       "      <td>0.862094</td>\n",
       "      <td>90</td>\n",
       "      <td>0.712589</td>\n",
       "      <td>0.149505</td>\n",
       "    </tr>\n",
       "    <tr>\n",
       "      <th>41</th>\n",
       "      <td>41</td>\n",
       "      <td>210</td>\n",
       "      <td>0.603466</td>\n",
       "      <td>60</td>\n",
       "      <td>0.475059</td>\n",
       "      <td>0.128406</td>\n",
       "    </tr>\n",
       "    <tr>\n",
       "      <th>42</th>\n",
       "      <td>42</td>\n",
       "      <td>210</td>\n",
       "      <td>0.603466</td>\n",
       "      <td>90</td>\n",
       "      <td>0.712589</td>\n",
       "      <td>-0.109123</td>\n",
       "    </tr>\n",
       "  </tbody>\n",
       "</table>\n",
       "</div>"
      ],
      "text/plain": [
       "    ClassId  Train_Count  Train_Percent  test_Count  test_Percent  \\\n",
       "0         0          180       0.517256          60      0.475059   \n",
       "1         1         1980       5.689819         720      5.700713   \n",
       "2         2         2010       5.776028         750      5.938242   \n",
       "3         3         1260       3.620794         450      3.562945   \n",
       "4         4         1770       5.086353         660      5.225653   \n",
       "5         5         1650       4.741516         630      4.988124   \n",
       "6         6          360       1.034512         150      1.187648   \n",
       "7         7         1290       3.707003         450      3.562945   \n",
       "8         8         1260       3.620794         450      3.562945   \n",
       "9         9         1320       3.793212         480      3.800475   \n",
       "10       10         1800       5.172562         660      5.225653   \n",
       "11       11         1170       3.362166         420      3.325416   \n",
       "12       12         1890       5.431191         690      5.463183   \n",
       "13       13         1920       5.517400         720      5.700713   \n",
       "14       14          690       1.982816         270      2.137767   \n",
       "15       15          540       1.551769         210      1.662708   \n",
       "16       16          360       1.034512         150      1.187648   \n",
       "17       17          990       2.844909         360      2.850356   \n",
       "18       18         1080       3.103537         390      3.087886   \n",
       "19       19          180       0.517256          60      0.475059   \n",
       "20       20          300       0.862094          90      0.712589   \n",
       "21       21          270       0.775884          90      0.712589   \n",
       "22       22          330       0.948303         120      0.950119   \n",
       "23       23          450       1.293141         150      1.187648   \n",
       "24       24          240       0.689675          90      0.712589   \n",
       "25       25         1350       3.879422         480      3.800475   \n",
       "26       26          540       1.551769         180      1.425178   \n",
       "27       27          210       0.603466          60      0.475059   \n",
       "28       28          480       1.379350         150      1.187648   \n",
       "29       29          240       0.689675          90      0.712589   \n",
       "30       30          390       1.120722         150      1.187648   \n",
       "31       31          690       1.982816         270      2.137767   \n",
       "32       32          210       0.603466          60      0.475059   \n",
       "33       33          599       1.721314         210      1.662708   \n",
       "34       34          360       1.034512         120      0.950119   \n",
       "35       35         1080       3.103537         390      3.087886   \n",
       "36       36          330       0.948303         120      0.950119   \n",
       "37       37          180       0.517256          60      0.475059   \n",
       "38       38         1860       5.344981         690      5.463183   \n",
       "39       39          270       0.775884          90      0.712589   \n",
       "40       40          300       0.862094          90      0.712589   \n",
       "41       41          210       0.603466          60      0.475059   \n",
       "42       42          210       0.603466          90      0.712589   \n",
       "\n",
       "    Dist_Difference  \n",
       "0          0.042197  \n",
       "1         -0.010894  \n",
       "2         -0.162214  \n",
       "3          0.057848  \n",
       "4         -0.139300  \n",
       "5         -0.246608  \n",
       "6         -0.153136  \n",
       "7          0.144058  \n",
       "8          0.057848  \n",
       "9         -0.007263  \n",
       "10        -0.053091  \n",
       "11         0.036750  \n",
       "12        -0.031992  \n",
       "13        -0.183313  \n",
       "14        -0.154952  \n",
       "15        -0.110939  \n",
       "16        -0.153136  \n",
       "17        -0.005447  \n",
       "18         0.015651  \n",
       "19         0.042197  \n",
       "20         0.149505  \n",
       "21         0.063295  \n",
       "22        -0.001816  \n",
       "23         0.105492  \n",
       "24        -0.022914  \n",
       "25         0.078947  \n",
       "26         0.126591  \n",
       "27         0.128406  \n",
       "28         0.191702  \n",
       "29        -0.022914  \n",
       "30        -0.066927  \n",
       "31        -0.154952  \n",
       "32         0.128406  \n",
       "33         0.058606  \n",
       "34         0.084394  \n",
       "35         0.015651  \n",
       "36        -0.001816  \n",
       "37         0.042197  \n",
       "38        -0.118202  \n",
       "39         0.063295  \n",
       "40         0.149505  \n",
       "41         0.128406  \n",
       "42        -0.109123  "
      ]
     },
     "execution_count": 7,
     "metadata": {},
     "output_type": "execute_result"
    }
   ],
   "source": [
    "train_test_dist"
   ]
  },
  {
   "cell_type": "code",
   "execution_count": 144,
   "metadata": {
    "collapsed": true
   },
   "outputs": [],
   "source": [
    "# Generate Fake Images Data. \n",
    "#This significantly reduced the accuracy of the model so I'm not including in the fake data in the training set\n",
    "\n",
    "'''\n",
    "def transform_image(img,ang_range,shear_range,trans_range):\n",
    "    \n",
    "    This function transforms images to generate new images.\n",
    "    The function takes in following arguments,\n",
    "    1- Image\n",
    "    2- ang_range: Range of angles for rotation\n",
    "    3- shear_range: Range of values to apply affine transform to\n",
    "    4- trans_range: Range of values to apply translations over. \n",
    "    \n",
    "    A Random uniform distribution is used to generate different parameters for transformation\n",
    "    \n",
    "    \n",
    "    # Rotation\n",
    "\n",
    "    ang_rot = np.random.uniform(ang_range)-ang_range/2\n",
    "    rows,cols,ch = img.shape    \n",
    "    Rot_M = cv2.getRotationMatrix2D((cols/2,rows/2),ang_rot,1)\n",
    "\n",
    "    # Translation\n",
    "    tr_x = trans_range*np.random.uniform()-trans_range/2\n",
    "    tr_y = trans_range*np.random.uniform()-trans_range/2\n",
    "    Trans_M = np.float32([[1,0,tr_x],[0,1,tr_y]])\n",
    "\n",
    "    # Shear\n",
    "    pts1 = np.float32([[5,5],[20,5],[5,20]])\n",
    "\n",
    "    pt1 = 5+shear_range*np.random.uniform()-shear_range/2\n",
    "    pt2 = 20+shear_range*np.random.uniform()-shear_range/2\n",
    "\n",
    "    pts2 = np.float32([[pt1,5],[pt2,pt1],[5,pt2]])\n",
    "\n",
    "    shear_M = cv2.getAffineTransform(pts1,pts2)\n",
    "        \n",
    "    img = cv2.warpAffine(img,Rot_M,(cols,rows))\n",
    "    img = cv2.warpAffine(img,Trans_M,(cols,rows))\n",
    "    img = cv2.warpAffine(img,shear_M,(cols,rows))\n",
    "    \n",
    "    return img\n",
    "\n",
    "import random\n",
    "for i in range(1,len(set(y_train))):\n",
    "    print (i)\n",
    "    indexes= list(np.where(y_train == i))[0]\n",
    "    num_images = train_test_dist[train_test_dist.ClassId == i].Train_Count[i]\n",
    "    for j in range(num_images, 3000):\n",
    "        if j%1000 == 0:\n",
    "            print (j)\n",
    "        img = X_train[random.choice(indexes)]\n",
    "        transformed_image = transform_image(img,20,20,5).reshape(1,32,32,3)\n",
    "        X_train = np.vstack([X_train,transformed_image])\n",
    "        y_train = np.append(y_train, i)\n",
    "'''"
   ]
  },
  {
   "cell_type": "markdown",
   "metadata": {},
   "source": [
    "----\n",
    "\n",
    "## Step 2: Design and Test a Model Architecture\n",
    "\n",
    "Design and implement a deep learning model that learns to recognize traffic signs. Train and test your model on the [German Traffic Sign Dataset](http://benchmark.ini.rub.de/?section=gtsrb&subsection=dataset).\n",
    "\n",
    "The LeNet-5 implementation shown in the [classroom](https://classroom.udacity.com/nanodegrees/nd013/parts/fbf77062-5703-404e-b60c-95b78b2f3f9e/modules/6df7ae49-c61c-4bb2-a23e-6527e69209ec/lessons/601ae704-1035-4287-8b11-e2c2716217ad/concepts/d4aca031-508f-4e0b-b493-e7b706120f81) at the end of the CNN lesson is a solid starting point. You'll have to change the number of classes and possibly the preprocessing, but aside from that it's plug and play! \n",
    "\n",
    "With the LeNet-5 solution from the lecture, you should expect a validation set accuracy of about 0.89. To meet specifications, the validation set accuracy will need to be at least 0.93. It is possible to get an even higher accuracy, but 0.93 is the minimum for a successful project submission. \n",
    "\n",
    "There are various aspects to consider when thinking about this problem:\n",
    "\n",
    "- Neural network architecture (is the network over or underfitting?)\n",
    "- Play around preprocessing techniques (normalization, rgb to grayscale, etc)\n",
    "- Number of examples per label (some have more than others).\n",
    "- Generate fake data.\n",
    "\n",
    "Here is an example of a [published baseline model on this problem](http://yann.lecun.com/exdb/publis/pdf/sermanet-ijcnn-11.pdf). It's not required to be familiar with the approach used in the paper but, it's good practice to try to read papers like these."
   ]
  },
  {
   "cell_type": "markdown",
   "metadata": {},
   "source": [
    "### Pre-process the Data Set (normalization, grayscale, etc.)"
   ]
  },
  {
   "cell_type": "markdown",
   "metadata": {},
   "source": [
    "Minimally, the image data should be normalized so that the data has mean zero and equal variance. For image data, `(pixel - 128)/ 128` is a quick way to approximately normalize the data and can be used in this project. \n",
    "\n",
    "Other pre-processing steps are optional. You can try different techniques to see if it improves performance. \n",
    "\n",
    "Use the code cell (or multiple code cells, if necessary) to implement the first step of your project."
   ]
  },
  {
   "cell_type": "code",
   "execution_count": 8,
   "metadata": {
    "collapsed": true
   },
   "outputs": [],
   "source": [
    "# Save original set \n",
    "X_train_raw = X_train\n",
    "X_test_raw = X_test\n",
    "X_valid_raw = X_valid"
   ]
  },
  {
   "cell_type": "code",
   "execution_count": 10,
   "metadata": {
    "collapsed": false
   },
   "outputs": [
    {
     "data": {
      "text/plain": [
       "<matplotlib.image.AxesImage at 0x7f98fe792518>"
      ]
     },
     "execution_count": 10,
     "metadata": {},
     "output_type": "execute_result"
    },
    {
     "data": {
      "image/png": "[encoded data removed]",
      "text/plain": [
       "<matplotlib.figure.Figure at 0x7f98fe812748>"
      ]
     },
     "metadata": {},
     "output_type": "display_data"
    }
   ],
   "source": [
    "import numpy as np\n",
    "\n",
    "# Normalise input (images still in colour)\n",
    "X_train = (X_train - X_train.mean()) / (np.max(X_train) - np.min(X_train))\n",
    "X_test = (X_test - X_test.mean()) / (np.max(X_test) - np.min(X_test))\n",
    "X_valid = (X_valid - X_valid.mean()) / (np.max(X_valid) - np.min(X_valid))\n",
    "\n",
    "\"\"\"Plots original image on the left and normalised image on the right.\"\"\"\n",
    "random_image = randint(0,30000)\n",
    "plt.subplot(2,2,1)\n",
    "plt.imshow(X_train_raw[random_image])\n",
    "plt.subplot(2,2,2)\n",
    "plt.imshow(X_train[random_image])"
   ]
  },
  {
   "cell_type": "markdown",
   "metadata": {},
   "source": [
    "### Model Architecture"
   ]
  },
  {
   "cell_type": "code",
   "execution_count": null,
   "metadata": {
    "collapsed": true
   },
   "outputs": [],
   "source": [
    "\n",
    "from sklearn.utils import shuffle\n",
    "#from sklearn.model_selection import train_test_split\n",
    "\n",
    "X_train, y_train = shuffle(X_train, y_train)\n",
    "#X_train, X_val, y_train, y_val = train_test_split(X_train, y_train, test_size=0.2, random_state=42)\n",
    "\n",
    "from sklearn import preprocessing\n",
    "from sklearn.preprocessing import OneHotEncoder\n",
    "\n",
    "encoder = preprocessing.LabelBinarizer()\n",
    "y_train_onehot = encoder.fit_transform(y_train)\n",
    "y_test_onehot = encoder.fit_transform(y_test)\n",
    "y_valid_onehot = encoder.fit_transform(y_valid)"
   ]
  },
  {
   "cell_type": "code",
   "execution_count": 47,
   "metadata": {
    "collapsed": true
   },
   "outputs": [],
   "source": [
    "import tensorflow as tf\n",
    "from tensorflow.contrib.layers import flatten\n",
    "\n",
    "def LeNet(x):    \n",
    "    # Hyperparameters\n",
    "    mu = 0\n",
    "    sigma = 0.1\n",
    "    \n",
    "    #new_height = (input_height - filter_height + 2 * P)/S + 1\n",
    "    #new_width = (input_width - filter_width + 2 * P)/S + 1\n",
    "    \n",
    "    # SOLUTION: Layer 1: Convolutional. Input = 32x32x3 . Output = 28x28x10.\n",
    "    conv1_W = tf.Variable(tf.truncated_normal(shape=(5, 5, 3, 10), mean = mu, stddev = sigma))\n",
    "    conv1_b = tf.Variable(tf.zeros(10))\n",
    "    conv1   = tf.nn.conv2d(x, conv1_W, strides=[1, 1, 1, 1], padding='VALID') + conv1_b\n",
    "\n",
    "    # SOLUTION: Activation.\n",
    "    conv1 = tf.nn.relu(conv1)\n",
    "    \n",
    "    #new_height = (input_height - filter_height)/S + 1\n",
    "    #new_width = (input_width - filter_width)/S + 1\n",
    "\n",
    "    # SOLUTION: Pooling. Input = 28x28x10. Output = (26x26x10) \n",
    "    conv1 = tf.nn.max_pool(conv1, ksize=[1, 3, 3, 1], strides=[1, 1, 1, 1], padding='VALID')\n",
    "    \n",
    "    ## Temp Layer in Le Net 26x26x10 , Output :24x24x15\n",
    "    conv1_temp_W = tf.Variable(tf.truncated_normal(shape=(3, 3, 10, 15), mean = mu, stddev = sigma))\n",
    "    conv1_temp_b = tf.Variable(tf.zeros(15))\n",
    "    conv1_temp = tf.nn.conv2d(conv1, conv1_temp_W,strides= [1,1,1,1], padding = 'VALID') + conv1_temp_b    \n",
    "    conv1_temp = tf.nn.relu(conv1_temp)\n",
    "    \n",
    "    # Pooling : Input: 24x24x15, Output : 12x12x15\n",
    "    conv1_temp = tf.nn.max_pool(conv1_temp, ksize = [1,2,2,1], strides = [1,2,2,1], padding = 'VALID')\n",
    "\n",
    "    # SOLUTION: Layer 2:  Input : 12x12x15 , Convolutional. Output = 10x10x30. \n",
    "    conv2_W = tf.Variable(tf.truncated_normal(shape=(3, 3, 15, 30), mean = mu, stddev = sigma))\n",
    "    conv2_b = tf.Variable(tf.zeros(30))\n",
    "    conv2   = tf.nn.conv2d(conv1_temp, conv2_W, strides=[1, 1, 1, 1], padding='VALID') + conv2_b\n",
    "    \n",
    "    # SOLUTION: Activation.\n",
    "    conv2 = tf.nn.relu(conv2)\n",
    "    \n",
    "    # SOLUTION: Pooling. Input = 10x10x30. Output = 5x5x30.\n",
    "    conv2 = tf.nn.max_pool(conv2, ksize=[1, 2, 2, 1], strides=[1, 2, 2, 1], padding='VALID')\n",
    "\n",
    "    # SOLUTION: Flatten. Input = 5x5x30. Output = 750.\n",
    "    fc0   = flatten(conv2)\n",
    "    \n",
    "    # Adding another fully connected layer 750 -> 800\n",
    "    fc00_W = tf.Variable(tf.truncated_normal(shape=(750, 800), mean = mu, stddev = sigma))\n",
    "    fc00_b = tf.Variable(tf.zeros(800))\n",
    "    fc00   = tf.matmul(fc0, fc00_W) + fc00_b\n",
    "    fc00 = tf.nn.relu(fc00)\n",
    "    \n",
    "    \n",
    "    # SOLUTION: Layer 3: Fully Connected. Input = 800. Output = 400.\n",
    "    fc1_W = tf.Variable(tf.truncated_normal(shape=(800, 400), mean = mu, stddev = sigma))\n",
    "    fc1_b = tf.Variable(tf.zeros(400))\n",
    "    fc1   = tf.matmul(fc00, fc1_W) + fc1_b\n",
    "    \n",
    "    # SOLUTION: Activation.\n",
    "    fc1    = tf.nn.relu(fc1)\n",
    "\n",
    "    # SOLUTION: Layer 4: Fully Connected. Input = 400. Output = 200.\n",
    "    fc2_W  = tf.Variable(tf.truncated_normal(shape=(400, 200), mean = mu, stddev = sigma))\n",
    "    fc2_b  = tf.Variable(tf.zeros(200))\n",
    "    fc2    = tf.matmul(fc1, fc2_W) + fc2_b\n",
    "    \n",
    "    # SOLUTION: Activation.\n",
    "    fc2    = tf.nn.relu(fc2)\n",
    "\n",
    "    # SOLUTION: Layer 5: Fully Connected. Input = 200. Output = 43.\n",
    "    fc3_W  = tf.Variable(tf.truncated_normal(shape=(200, 43), mean = mu, stddev = sigma))\n",
    "    fc3_b  = tf.Variable(tf.zeros(43))\n",
    "    logits = tf.matmul(fc2, fc3_W) + fc3_b\n",
    "    \n",
    "    return logits"
   ]
  },
  {
   "cell_type": "markdown",
   "metadata": {},
   "source": [
    "### Train, Validate and Test the Model"
   ]
  },
  {
   "cell_type": "markdown",
   "metadata": {},
   "source": [
    "A validation set can be used to assess how well the model is performing. A low accuracy on the training and validation\n",
    "sets imply underfitting. A high accuracy on the training set but low accuracy on the validation set implies overfitting."
   ]
  },
  {
   "cell_type": "code",
   "execution_count": 48,
   "metadata": {
    "collapsed": true
   },
   "outputs": [],
   "source": [
    "# NN parameters\n",
    "EPOCHS = 20\n",
    "BATCH_SIZE = 128\n",
    "rate = 0.001"
   ]
  },
  {
   "cell_type": "code",
   "execution_count": 49,
   "metadata": {
    "collapsed": true
   },
   "outputs": [],
   "source": [
    "x = tf.placeholder(tf.float32, (None, 32, 32, 3))\n",
    "y_rawlabels = tf.placeholder(\"int32\", [None])\n",
    "y = tf.one_hot(y_rawlabels, depth=43, on_value=1., off_value=0., axis=-1)"
   ]
  },
  {
   "cell_type": "code",
   "execution_count": 50,
   "metadata": {
    "collapsed": true
   },
   "outputs": [],
   "source": [
    "\n",
    "# Run LeNet\n",
    "import timeit\n",
    "start_time = timeit.default_timer()\n",
    "\n",
    "logits = LeNet(x)\n",
    "cross_entropy = tf.nn.softmax_cross_entropy_with_logits(logits, y)\n",
    "loss_operation = tf.reduce_mean(cross_entropy)\n",
    "optimizer = tf.train.AdamOptimizer(learning_rate = rate)\n",
    "training_operation = optimizer.minimize(loss_operation)\n",
    "\n",
    "# Performance metrics\n",
    "correct_prediction = tf.equal(tf.argmax(logits, 1), tf.argmax(y, 1))\n",
    "accuracy_operation = tf.reduce_mean(tf.cast(correct_prediction, tf.float32))\n",
    "saver = tf.train.Saver()\n",
    "\n",
    "def evaluate(X_data, y_data):\n",
    "    num_examples = len(X_data)\n",
    "    total_accuracy = 0\n",
    "    sess = tf.get_default_session()\n",
    "    for offset in range(0, num_examples, BATCH_SIZE):\n",
    "        batch_x, batch_y = X_data[offset:offset+BATCH_SIZE], y_data[offset:offset+BATCH_SIZE]\n",
    "        accuracy = sess.run(accuracy_operation, feed_dict={x: batch_x, y_rawlabels: batch_y})\n",
    "        total_accuracy += (accuracy * len(batch_x))\n",
    "    return total_accuracy / num_examples"
   ]
  },
  {
   "cell_type": "code",
   "execution_count": 51,
   "metadata": {
    "collapsed": false
   },
   "outputs": [
    {
     "name": "stdout",
     "output_type": "stream",
     "text": [
      "WARNING:tensorflow:From <ipython-input-51-ff856205f51f>:4 in <module>.: initialize_all_variables (from tensorflow.python.ops.variables) is deprecated and will be removed after 2017-03-02.\n",
      "Instructions for updating:\n",
      "Use `tf.global_variables_initializer` instead.\n",
      "Training...\n",
      "\n",
      "EPOCH 1 ...\n",
      "Train Accuracy = 0.953\n",
      "Validation Accuracy = 0.862\n",
      "\n",
      "EPOCH 2 ...\n",
      "Train Accuracy = 0.987\n",
      "Validation Accuracy = 0.916\n",
      "\n",
      "EPOCH 3 ...\n",
      "Train Accuracy = 0.993\n",
      "Validation Accuracy = 0.935\n",
      "\n",
      "EPOCH 4 ...\n",
      "Train Accuracy = 0.991\n",
      "Validation Accuracy = 0.929\n",
      "\n",
      "EPOCH 5 ...\n",
      "Train Accuracy = 0.997\n",
      "Validation Accuracy = 0.936\n",
      "\n",
      "EPOCH 6 ...\n",
      "Train Accuracy = 0.994\n",
      "Validation Accuracy = 0.939\n",
      "\n",
      "EPOCH 7 ...\n",
      "Train Accuracy = 0.998\n",
      "Validation Accuracy = 0.947\n",
      "\n",
      "EPOCH 8 ...\n",
      "Train Accuracy = 0.995\n",
      "Validation Accuracy = 0.941\n",
      "\n",
      "EPOCH 9 ...\n",
      "Train Accuracy = 0.994\n",
      "Validation Accuracy = 0.937\n",
      "\n",
      "EPOCH 10 ...\n",
      "Train Accuracy = 0.994\n",
      "Validation Accuracy = 0.931\n",
      "\n",
      "EPOCH 11 ...\n",
      "Train Accuracy = 0.999\n",
      "Validation Accuracy = 0.948\n",
      "\n",
      "EPOCH 12 ...\n",
      "Train Accuracy = 0.986\n",
      "Validation Accuracy = 0.925\n",
      "\n",
      "EPOCH 13 ...\n",
      "Train Accuracy = 0.998\n",
      "Validation Accuracy = 0.942\n",
      "\n",
      "EPOCH 14 ...\n",
      "Train Accuracy = 0.995\n",
      "Validation Accuracy = 0.943\n",
      "\n",
      "EPOCH 15 ...\n",
      "Train Accuracy = 0.995\n",
      "Validation Accuracy = 0.957\n",
      "\n",
      "EPOCH 16 ...\n",
      "Train Accuracy = 0.999\n",
      "Validation Accuracy = 0.956\n",
      "\n",
      "EPOCH 17 ...\n",
      "Train Accuracy = 1.000\n",
      "Validation Accuracy = 0.954\n",
      "\n",
      "EPOCH 18 ...\n",
      "Train Accuracy = 1.000\n",
      "Validation Accuracy = 0.967\n",
      "\n",
      "EPOCH 19 ...\n",
      "Train Accuracy = 1.000\n",
      "Validation Accuracy = 0.965\n",
      "\n",
      "EPOCH 20 ...\n",
      "Train Accuracy = 1.000\n",
      "Validation Accuracy = 0.965\n",
      "\n",
      "Model saved\n",
      "167.832161563\n"
     ]
    }
   ],
   "source": [
    "start_time = timeit.default_timer()\n",
    "\n",
    "with tf.Session() as sess:\n",
    "    sess.run(tf.initialize_all_variables())\n",
    "    num_examples = len(X_train)\n",
    "    \n",
    "    print(\"Training...\")\n",
    "    print()\n",
    "    for i in range(EPOCHS):\n",
    "        X_train, y_train = shuffle(X_train, y_train)\n",
    "        for offset in range(0, num_examples, BATCH_SIZE):\n",
    "            end = offset + BATCH_SIZE\n",
    "            batch_x, batch_y = X_train[offset:end], y_train[offset:end]\n",
    "            sess.run(training_operation, feed_dict={x: batch_x, y_rawlabels: batch_y})\n",
    "            \n",
    "        train_accuracy = evaluate(X_train, y_train)\n",
    "        validation_accuracy = evaluate(X_valid, y_valid)\n",
    "        \n",
    "        print(\"EPOCH {} ...\".format(i+1))\n",
    "        print(\"Train Accuracy = {:.3f}\".format(train_accuracy))\n",
    "        print(\"Validation Accuracy = {:.3f}\".format(validation_accuracy))\n",
    "        \n",
    "        print()\n",
    "        \n",
    "    saver.save(sess, './lenet')\n",
    "    print(\"Model saved\")\n",
    "\n",
    "elapsed = timeit.default_timer() - start_time\n",
    "print (elapsed)"
   ]
  },
  {
   "cell_type": "code",
   "execution_count": 52,
   "metadata": {
    "collapsed": false
   },
   "outputs": [
    {
     "name": "stdout",
     "output_type": "stream",
     "text": [
      "Model Restored\n",
      "Test Accuracy = 0.949\n"
     ]
    }
   ],
   "source": [
    "with tf.Session() as sess:\n",
    "    #loader = tf.train.import_meta_graph('lenet_trafficSigns.meta')\n",
    "    #loader.restore(sess, tf.train.latest_checkpoint('.'))\n",
    "    saver.restore(sess, tf.train.latest_checkpoint('.'))\n",
    "    print (\"Model Restored\")\n",
    "    test_accuracy = evaluate(X_test, y_test)\n",
    "    print(\"Test Accuracy = {:.3f}\".format(test_accuracy))"
   ]
  },
  {
   "cell_type": "markdown",
   "metadata": {},
   "source": [
    "---\n",
    "\n",
    "## Step 3: Test a Model on New Images\n",
    "\n",
    "To give yourself more insight into how your model is working, download at least five pictures of German traffic signs from the web and use your model to predict the traffic sign type.\n",
    "\n",
    "You may find `signnames.csv` useful as it contains mappings from the class id (integer) to the actual sign name."
   ]
  },
  {
   "cell_type": "markdown",
   "metadata": {},
   "source": [
    "### Load and Output the Images"
   ]
  },
  {
   "cell_type": "code",
   "execution_count": 45,
   "metadata": {
    "collapsed": false
   },
   "outputs": [
    {
     "data": {
      "image/png": "[encoded data removed]",
      "text/plain": [
       "<matplotlib.figure.Figure at 0x7f9898da12e8>"
      ]
     },
     "metadata": {},
     "output_type": "display_data"
    }
   ],
   "source": [
    "import os\n",
    "import scipy.misc\n",
    "\n",
    "NEW_IMAGES_FOLDER = './test_images/'\n",
    "\n",
    "\n",
    "def resize_image(image_file):\n",
    "    image = plt.imread(NEW_IMAGES_FOLDER + image_file)\n",
    "    return scipy.misc.imresize(image, (128, 128))\n",
    "\n",
    "resized_image_data = [(resize_image(image), image[:-4]) \n",
    "                          for image in os.listdir(NEW_IMAGES_FOLDER)]\n",
    "\n",
    "def display_images(imgs_data):\n",
    "    index = 1\n",
    "    plt.figure(figsize=(4,9))\n",
    "    for img, name in imgs_data:\n",
    "        plt.subplot(5, 1, index)\n",
    "        plt.imshow(img)\n",
    "        plt.axis('off')\n",
    "        plt.title(name)\n",
    "        index += 1\n",
    "    plt.show()\n",
    "    \n",
    "display_images(resized_image_data)"
   ]
  },
  {
   "cell_type": "markdown",
   "metadata": {},
   "source": [
    "## Predict the Sign Type for Each Image and analyze performance\n",
    "### Output Top 5 Softmax Probabilities For Each Image Found on the Web"
   ]
  },
  {
   "cell_type": "markdown",
   "metadata": {},
   "source": [
    "For each of the new images, print out the model's softmax probabilities to show the **certainty** of the model's predictions (limit the output to the top 5 probabilities for each image). [`tf.nn.top_k`](https://www.tensorflow.org/versions/r0.12/api_docs/python/nn.html#top_k) could prove helpful here. \n",
    "\n",
    "The example below demonstrates how tf.nn.top_k can be used to find the top k predictions for each image.\n",
    "\n",
    "`tf.nn.top_k` will return the values and indices (class ids) of the top k predictions. So if k=3, for each sign, it'll return the 3 largest probabilities (out of a possible 43) and the correspoding class ids.\n",
    "\n",
    "Take this numpy array as an example. The values in the array represent predictions. The array contains softmax probabilities for five candidate images with six possible classes. `tf.nn.top_k` is used to choose the three classes with the highest probability:\n",
    "\n",
    "```\n",
    "# (5, 6) array\n",
    "a = np.array([[ 0.24879643,  0.07032244,  0.12641572,  0.34763842,  0.07893497,\n",
    "         0.12789202],\n",
    "       [ 0.28086119,  0.27569815,  0.08594638,  0.0178669 ,  0.18063401,\n",
    "         0.15899337],\n",
    "       [ 0.26076848,  0.23664738,  0.08020603,  0.07001922,  0.1134371 ,\n",
    "         0.23892179],\n",
    "       [ 0.11943333,  0.29198961,  0.02605103,  0.26234032,  0.1351348 ,\n",
    "         0.16505091],\n",
    "       [ 0.09561176,  0.34396535,  0.0643941 ,  0.16240774,  0.24206137,\n",
    "         0.09155967]])\n",
    "```\n",
    "\n",
    "Running it through `sess.run(tf.nn.top_k(tf.constant(a), k=3))` produces:\n",
    "\n",
    "```\n",
    "TopKV2(values=array([[ 0.34763842,  0.24879643,  0.12789202],\n",
    "       [ 0.28086119,  0.27569815,  0.18063401],\n",
    "       [ 0.26076848,  0.23892179,  0.23664738],\n",
    "       [ 0.29198961,  0.26234032,  0.16505091],\n",
    "       [ 0.34396535,  0.24206137,  0.16240774]]), indices=array([[3, 0, 5],\n",
    "       [0, 1, 4],\n",
    "       [0, 5, 1],\n",
    "       [1, 3, 5],\n",
    "       [1, 4, 3]], dtype=int32))\n",
    "```\n",
    "\n",
    "Looking just at the first row we get `[ 0.34763842,  0.24879643,  0.12789202]`, you can confirm these are the 3 largest probabilities in `a`. You'll also notice `[3, 0, 5]` are the corresponding indices."
   ]
  },
  {
   "cell_type": "code",
   "execution_count": 53,
   "metadata": {
    "collapsed": false
   },
   "outputs": [
    {
     "data": {
      "image/png": "[encoded data removed]",
      "text/plain": [
       "<matplotlib.figure.Figure at 0x7f98a4a23630>"
      ]
     },
     "metadata": {},
     "output_type": "display_data"
    },
    {
     "name": "stdout",
     "output_type": "stream",
     "text": [
      "CNN Prediction:  ['Yield'] (13)\n",
      "Top Results:  [[ 1.  0.  0.  0.  0.]]\n",
      "Top Indices:  [[13  0  1  2  3]]\n"
     ]
    },
    {
     "data": {
      "image/png": "[encoded data removed]",
      "text/plain": [
       "<matplotlib.figure.Figure at 0x7f990c0ea438>"
      ]
     },
     "metadata": {},
     "output_type": "display_data"
    },
    {
     "name": "stdout",
     "output_type": "stream",
     "text": [
      "CNN Prediction:  ['Speed limit (30km/h)'] (1)\n",
      "Top Results:  [[ 1.  0.  0.  0.  0.]]\n",
      "Top Indices:  [[1 0 2 3 4]]\n"
     ]
    },
    {
     "data": {
      "image/png": "[encoded data removed]",
      "text/plain": [
       "<matplotlib.figure.Figure at 0x7f989a627dd8>"
      ]
     },
     "metadata": {},
     "output_type": "display_data"
    },
    {
     "name": "stdout",
     "output_type": "stream",
     "text": [
      "CNN Prediction:  ['Priority road'] (12)\n",
      "Top Results:  [[ 1.  0.  0.  0.  0.]]\n",
      "Top Indices:  [[12  0  1  2  3]]\n"
     ]
    },
    {
     "data": {
      "image/png": "[encoded data removed]",
      "text/plain": [
       "<matplotlib.figure.Figure at 0x7f989a6a7940>"
      ]
     },
     "metadata": {},
     "output_type": "display_data"
    },
    {
     "name": "stdout",
     "output_type": "stream",
     "text": [
      "CNN Prediction:  ['No entry'] (17)\n",
      "Top Results:  [[ 1.  0.  0.  0.  0.]]\n",
      "Top Indices:  [[17  0  1  2  3]]\n"
     ]
    },
    {
     "data": {
      "image/png": "[encoded data removed]",
      "text/plain": [
       "<matplotlib.figure.Figure at 0x7f9899ffdcc0>"
      ]
     },
     "metadata": {},
     "output_type": "display_data"
    },
    {
     "name": "stdout",
     "output_type": "stream",
     "text": [
      "CNN Prediction:  ['Bumpy road'] (22)\n",
      "Top Results:  [[ 1.  0.  0.  0.  0.]]\n",
      "Top Indices:  [[22  0  1  2  3]]\n"
     ]
    }
   ],
   "source": [
    "import os\n",
    "import scipy.misc\n",
    "\n",
    "import csv\n",
    "reader = csv.reader(open('signnames.csv'))\n",
    "\n",
    "result = {}\n",
    "for row in reader:\n",
    "    key = row[0]\n",
    "    if key in result:\n",
    "        \n",
    "        pass\n",
    "    result[key] = row[1:]\n",
    "\n",
    "NEW_IMAGES_FOLDER = './test_images/'\n",
    "\n",
    "labels = {0: 'Yield',\n",
    "          1: 'Speed limit (30 km/h)',\n",
    "          2: 'Priority road',\n",
    "          3: 'No entry',\n",
    "          4: 'Bumpy road'}\n",
    "\n",
    "with tf.Session() as sess:\n",
    "    saver.restore(sess, tf.train.latest_checkpoint('.'))\n",
    "    for i in range(5):\n",
    "        image = plt.imread(NEW_IMAGES_FOLDER + str(i)+'.jpg')\n",
    "        image = scipy.misc.imresize(image, (32, 32))\n",
    "        \n",
    "        plt.imshow(image)\n",
    "        plt.axis('off')\n",
    "        plt.show()\n",
    "        \n",
    "        classification = sess.run(tf.argmax(logits, 1), feed_dict={x: [image]})\n",
    "        softmax = tf.nn.softmax(logits)        \n",
    "        normalized_prob = sess.run(softmax, feed_dict={x: [image]})\n",
    "        top_k_op = tf.nn.top_k(normalized_prob, k=5)\n",
    "        top_k_results = sess.run(top_k_op)\n",
    "        \n",
    "        print('CNN Prediction: ', result[str(classification[0])], '('+str(classification[0])+')')\n",
    "        print('Top Results: ', top_k_results.values)\n",
    "        print('Top Indices: ', top_k_results.indices)"
   ]
  },
  {
   "cell_type": "markdown",
   "metadata": {},
   "source": [
    "### Project Writeup\n",
    "\n",
    "Once you have completed the code implementation, document your results in a project writeup using this [template](https://github.com/udacity/CarND-Traffic-Sign-Classifier-Project/blob/master/writeup_template.md) as a guide. The writeup can be in a markdown or pdf file. "
   ]
  }
 ],
 "metadata": {
  "anaconda-cloud": {},
  "kernelspec": {
   "display_name": "Python [default]",
   "language": "python",
   "name": "python3"
  },
  "language_info": {
   "codemirror_mode": {
    "name": "ipython",
    "version": 3
   },
   "file_extension": ".py",
   "mimetype": "text/x-python",
   "name": "python",
   "nbconvert_exporter": "python",
   "pygments_lexer": "ipython3",
   "version": "3.5.2"
  }
 },
 "nbformat": 4,
 "nbformat_minor": 1
}
